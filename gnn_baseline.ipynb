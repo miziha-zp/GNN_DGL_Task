{
 "metadata": {
  "language_info": {
   "codemirror_mode": {
    "name": "ipython",
    "version": 3
   },
   "file_extension": ".py",
   "mimetype": "text/x-python",
   "name": "python",
   "nbconvert_exporter": "python",
   "pygments_lexer": "ipython3",
   "version": "3.7.10-final"
  },
  "orig_nbformat": 2,
  "kernelspec": {
   "name": "py37",
   "display_name": "py37",
   "language": "python"
  }
 },
 "nbformat": 4,
 "nbformat_minor": 2,
 "cells": [
  {
   "cell_type": "code",
   "execution_count": 1,
   "metadata": {},
   "outputs": [
    {
     "output_type": "stream",
     "name": "stdout",
     "text": [
      "user feature shape: (210369, 33)\n",
      "item feature shape: (357133, 44)\n",
      "user feature shape: (37964, 33)\n",
      "item feature shape: (45899, 44)\n"
     ]
    }
   ],
   "source": [
    "import pandas as pd \n",
    "from utils import cprint, evaluationAUC_F1\n",
    "\n",
    "def load_data(prefix='train'):\n",
    "    item_table = pd.read_csv('task1_data/{}_item_feature_table.csv'.format(prefix))\n",
    "    user_table = pd.read_csv('task1_data/{}_user_feature_table.csv'.format(prefix))\n",
    "    print('user feature shape:', user_table.shape)\n",
    "    print('item feature shape:', item_table.shape)\n",
    "    \n",
    "    edge_table = pd.read_csv('task1_data/{}_e.csv'.format(prefix))\n",
    "    return item_table, user_table, edge_table\n",
    "\n",
    "train_item_table, train_user_table, train_edge_table = load_data('train')\n",
    "test_item_table, test_user_table, test_edge_table = load_data('test')\n"
   ]
  },
  {
   "source": [
    "import dgl\n",
    "import torch \n",
    "def load_dgl_graph(edge_table, user_table, item_table):\n",
    "    graph_data = {\n",
    "    ('user', 'buy', 'item'): (edge_table['userid'].values, edge_table['itemid'].values),\n",
    "    ('item', 'buyed', 'user'): (edge_table['itemid'].values, edge_table['userid'].values), \n",
    "    }\n",
    "    g = dgl.heterograph(graph_data)\n",
    "    print(g)\n",
    "    print(g.ntypes, g.etypes, g.canonical_etypes)\n",
    "    g.nodes['user'].data['feature'] = torch.from_numpy(user_table[user_table.columns[1:]].values).float()\n",
    "    g.nodes['item'].data['feature'] = torch.from_numpy(item_table[item_table.columns[1:]].values).float()\n",
    "    g.edges['buy'].data['label'] = torch.from_numpy(edge_table['label'].values).long()\n",
    "    return g\n",
    "\n",
    "train_g = load_dgl_graph(train_edge_table, train_user_table, train_item_table)\n",
    "test_g = load_dgl_graph(test_edge_table, test_user_table, test_item_table)\n"
   ],
   "cell_type": "code",
   "metadata": {},
   "execution_count": 2,
   "outputs": [
    {
     "output_type": "stream",
     "name": "stderr",
     "text": [
      "Using backend: pytorch\n",
      "Graph(num_nodes={'item': 357133, 'user': 210369},\n",
      "      num_edges={('item', 'buyed', 'user'): 500000, ('user', 'buy', 'item'): 500000},\n",
      "      metagraph=[('item', 'user', 'buyed'), ('user', 'item', 'buy')])\n",
      "['item', 'user'] ['buyed', 'buy'] [('item', 'buyed', 'user'), ('user', 'buy', 'item')]\n",
      "Graph(num_nodes={'item': 45899, 'user': 37964},\n",
      "      num_edges={('item', 'buyed', 'user'): 50000, ('user', 'buy', 'item'): 50000},\n",
      "      metagraph=[('item', 'user', 'buyed'), ('user', 'item', 'buy')])\n",
      "['item', 'user'] ['buyed', 'buy'] [('item', 'buyed', 'user'), ('user', 'buy', 'item')]\n"
     ]
    }
   ]
  },
  {
   "cell_type": "code",
   "execution_count": 3,
   "metadata": {},
   "outputs": [],
   "source": [
    "class Model(torch.nn.Module):\n",
    "    def __init__(self, user_feature=32, item_feature=43, hidden_feature=64):\n",
    "        super(Model, self).__init__()\n",
    "        self.conv = dglnn.HeteroGraphConv({\n",
    "            'buy' : dglnn.GraphConv(user_feature, hidden_feature, norm='none', weight=True, bias=True),\n",
    "            'buyed' : dglnn.GraphConv(item_feature, hidden_feature, norm='none', weight=True, bias=True)},\n",
    "        aggregate='sum')\n",
    "\n",
    "        self.cls = torch.nn.Sequential(\n",
    "            torch.nn.Linear(hidden_feature*2+user_feature+item_feature, hidden_feature),\n",
    "            torch.nn.ReLU(),\n",
    "            torch.nn.Linear(hidden_feature, hidden_feature),\n",
    "            torch.nn.ReLU(),\n",
    "            torch.nn.Linear(hidden_feature, 1),\n",
    "            torch.nn.Sigmoid()\n",
    "        )\n",
    "        self.bceloss = torch.nn.BCELoss()\n",
    "\n",
    "    def apply_edges(self, edges):\n",
    "        \"\"\"\n",
    "        Computes a scalar score for each edge of the given graph.\n",
    "\n",
    "        Parameters\n",
    "        ----------\n",
    "        edges :\n",
    "            Has three members ``src``, ``dst`` and ``h1``, each of\n",
    "            which is a dictionary representing the features of the\n",
    "            source nodes, the destination nodes, and the edges\n",
    "            themselves.\n",
    "\n",
    "        Returns\n",
    "        -------\n",
    "        dict\n",
    "            A dictionary of new edge features.\n",
    "        \"\"\"\n",
    "        h = torch.cat([edges.src['feature'], edges.dst['feature'], edges.src['h1'], edges.dst['h1']], 1)\n",
    "        return {'score': self.cls(h)}\n",
    "\n",
    "    def forward(self, g, x):\n",
    "        h = self.conv(g, x)\n",
    "        g.nodes['user'].data['h1'] = h['user']\n",
    "        g.nodes['item'].data['h1'] = h['item']\n",
    "        # print(g.edges['buy'])\n",
    "       \n",
    "        g.apply_edges(self.apply_edges, etype='buy')\n",
    "        \n",
    "        scores = g.edges['buy'].data['score'].squeeze()\n",
    "        labels = g.edges['buy'].data['label'].float()\n",
    "        # print(scores.shape, labels.shape)\n",
    "        return scores, labels"
   ]
  },
  {
   "cell_type": "code",
   "execution_count": 5,
   "metadata": {},
   "outputs": [
    {
     "output_type": "stream",
     "name": "stdout",
     "text": [
      "TRAIN epochs 0 loss: 0.86\n",
      "TRAIN epochs 50 loss: 9.62\n",
      "TRAIN epochs 100 loss: 9.92\n",
      "TRAIN epochs 150 loss: 9.90\n",
      "TRAIN epochs 200 loss: 9.89\n",
      "TRAIN epochs 250 loss: 9.87\n",
      "TRAIN epochs 300 loss: 9.84\n",
      "TRAIN epochs 350 loss: 9.78\n",
      "TRAIN epochs 400 loss: 9.64\n"
     ]
    },
    {
     "output_type": "error",
     "ename": "KeyboardInterrupt",
     "evalue": "",
     "traceback": [
      "\u001b[0;31m---------------------------------------------------------------------------\u001b[0m",
      "\u001b[0;31mKeyboardInterrupt\u001b[0m                         Traceback (most recent call last)",
      "\u001b[0;32m<ipython-input-5-afd35f66452b>\u001b[0m in \u001b[0;36m<module>\u001b[0;34m\u001b[0m\n\u001b[1;32m      5\u001b[0m \u001b[0mopt\u001b[0m \u001b[0;34m=\u001b[0m \u001b[0mtorch\u001b[0m\u001b[0;34m.\u001b[0m\u001b[0moptim\u001b[0m\u001b[0;34m.\u001b[0m\u001b[0mSGD\u001b[0m\u001b[0;34m(\u001b[0m\u001b[0msage1\u001b[0m\u001b[0;34m.\u001b[0m\u001b[0mparameters\u001b[0m\u001b[0;34m(\u001b[0m\u001b[0;34m)\u001b[0m\u001b[0;34m,\u001b[0m \u001b[0mlr\u001b[0m\u001b[0;34m=\u001b[0m\u001b[0;36m1e-1\u001b[0m\u001b[0;34m)\u001b[0m\u001b[0;34m\u001b[0m\u001b[0;34m\u001b[0m\u001b[0m\n\u001b[1;32m      6\u001b[0m \u001b[0;32mfor\u001b[0m \u001b[0mepoch\u001b[0m \u001b[0;32min\u001b[0m \u001b[0mrange\u001b[0m\u001b[0;34m(\u001b[0m\u001b[0;36m500\u001b[0m\u001b[0;34m)\u001b[0m\u001b[0;34m:\u001b[0m\u001b[0;34m\u001b[0m\u001b[0;34m\u001b[0m\u001b[0m\n\u001b[0;32m----> 7\u001b[0;31m     \u001b[0mscores\u001b[0m\u001b[0;34m,\u001b[0m \u001b[0mlabels\u001b[0m \u001b[0;34m=\u001b[0m \u001b[0msage1\u001b[0m\u001b[0;34m(\u001b[0m\u001b[0mtrain_g\u001b[0m\u001b[0;34m.\u001b[0m\u001b[0mto\u001b[0m\u001b[0;34m(\u001b[0m\u001b[0mdevice\u001b[0m\u001b[0;34m)\u001b[0m\u001b[0;34m,\u001b[0m \u001b[0;34m{\u001b[0m\u001b[0;34m'user'\u001b[0m\u001b[0;34m:\u001b[0m\u001b[0mtrain_g\u001b[0m\u001b[0;34m.\u001b[0m\u001b[0mnodes\u001b[0m\u001b[0;34m[\u001b[0m\u001b[0;34m'user'\u001b[0m\u001b[0;34m]\u001b[0m\u001b[0;34m.\u001b[0m\u001b[0mdata\u001b[0m\u001b[0;34m[\u001b[0m\u001b[0;34m'feature'\u001b[0m\u001b[0;34m]\u001b[0m\u001b[0;34m.\u001b[0m\u001b[0mto\u001b[0m\u001b[0;34m(\u001b[0m\u001b[0mdevice\u001b[0m\u001b[0;34m)\u001b[0m\u001b[0;34m,\u001b[0m \u001b[0;34m'item'\u001b[0m\u001b[0;34m:\u001b[0m\u001b[0mtrain_g\u001b[0m\u001b[0;34m.\u001b[0m\u001b[0mnodes\u001b[0m\u001b[0;34m[\u001b[0m\u001b[0;34m'item'\u001b[0m\u001b[0;34m]\u001b[0m\u001b[0;34m.\u001b[0m\u001b[0mdata\u001b[0m\u001b[0;34m[\u001b[0m\u001b[0;34m'feature'\u001b[0m\u001b[0;34m]\u001b[0m\u001b[0;34m.\u001b[0m\u001b[0mto\u001b[0m\u001b[0;34m(\u001b[0m\u001b[0mdevice\u001b[0m\u001b[0;34m)\u001b[0m\u001b[0;34m}\u001b[0m\u001b[0;34m)\u001b[0m\u001b[0;34m\u001b[0m\u001b[0;34m\u001b[0m\u001b[0m\n\u001b[0m\u001b[1;32m      8\u001b[0m     \u001b[0mloss\u001b[0m \u001b[0;34m=\u001b[0m \u001b[0mF\u001b[0m\u001b[0;34m.\u001b[0m\u001b[0mbinary_cross_entropy\u001b[0m\u001b[0;34m(\u001b[0m\u001b[0mscores\u001b[0m\u001b[0;34m,\u001b[0m \u001b[0mlabels\u001b[0m\u001b[0;34m)\u001b[0m\u001b[0;34m\u001b[0m\u001b[0;34m\u001b[0m\u001b[0m\n\u001b[1;32m      9\u001b[0m     \u001b[0mopt\u001b[0m\u001b[0;34m.\u001b[0m\u001b[0mzero_grad\u001b[0m\u001b[0;34m(\u001b[0m\u001b[0;34m)\u001b[0m\u001b[0;34m\u001b[0m\u001b[0;34m\u001b[0m\u001b[0m\n",
      "\u001b[0;32m~/.conda/envs/py37/lib/python3.7/site-packages/dgl/heterograph.py\u001b[0m in \u001b[0;36mto\u001b[0;34m(self, device, **kwargs)\u001b[0m\n\u001b[1;32m   5396\u001b[0m \u001b[0;34m\u001b[0m\u001b[0m\n\u001b[1;32m   5397\u001b[0m         \u001b[0;31m# 1. Copy graph structure\u001b[0m\u001b[0;34m\u001b[0m\u001b[0;34m\u001b[0m\u001b[0;34m\u001b[0m\u001b[0m\n\u001b[0;32m-> 5398\u001b[0;31m         \u001b[0mret\u001b[0m\u001b[0;34m.\u001b[0m\u001b[0m_graph\u001b[0m \u001b[0;34m=\u001b[0m \u001b[0mself\u001b[0m\u001b[0;34m.\u001b[0m\u001b[0m_graph\u001b[0m\u001b[0;34m.\u001b[0m\u001b[0mcopy_to\u001b[0m\u001b[0;34m(\u001b[0m\u001b[0mutils\u001b[0m\u001b[0;34m.\u001b[0m\u001b[0mto_dgl_context\u001b[0m\u001b[0;34m(\u001b[0m\u001b[0mdevice\u001b[0m\u001b[0;34m)\u001b[0m\u001b[0;34m)\u001b[0m\u001b[0;34m\u001b[0m\u001b[0;34m\u001b[0m\u001b[0m\n\u001b[0m\u001b[1;32m   5399\u001b[0m \u001b[0;34m\u001b[0m\u001b[0m\n\u001b[1;32m   5400\u001b[0m         \u001b[0;31m# 2. Copy features\u001b[0m\u001b[0;34m\u001b[0m\u001b[0;34m\u001b[0m\u001b[0;34m\u001b[0m\u001b[0m\n",
      "\u001b[0;32m~/.conda/envs/py37/lib/python3.7/site-packages/dgl/heterograph_index.py\u001b[0m in \u001b[0;36mcopy_to\u001b[0;34m(self, ctx)\u001b[0m\n\u001b[1;32m    233\u001b[0m             \u001b[0mThe\u001b[0m \u001b[0mgraph\u001b[0m \u001b[0mindex\u001b[0m \u001b[0mon\u001b[0m \u001b[0mthe\u001b[0m \u001b[0mgiven\u001b[0m \u001b[0mdevice\u001b[0m \u001b[0mcontext\u001b[0m\u001b[0;34m.\u001b[0m\u001b[0;34m\u001b[0m\u001b[0;34m\u001b[0m\u001b[0m\n\u001b[1;32m    234\u001b[0m         \"\"\"\n\u001b[0;32m--> 235\u001b[0;31m         \u001b[0;32mreturn\u001b[0m \u001b[0m_CAPI_DGLHeteroCopyTo\u001b[0m\u001b[0;34m(\u001b[0m\u001b[0mself\u001b[0m\u001b[0;34m,\u001b[0m \u001b[0mctx\u001b[0m\u001b[0;34m.\u001b[0m\u001b[0mdevice_type\u001b[0m\u001b[0;34m,\u001b[0m \u001b[0mctx\u001b[0m\u001b[0;34m.\u001b[0m\u001b[0mdevice_id\u001b[0m\u001b[0;34m)\u001b[0m\u001b[0;34m\u001b[0m\u001b[0;34m\u001b[0m\u001b[0m\n\u001b[0m\u001b[1;32m    236\u001b[0m \u001b[0;34m\u001b[0m\u001b[0m\n\u001b[1;32m    237\u001b[0m     \u001b[0;32mdef\u001b[0m \u001b[0mshared_memory\u001b[0m\u001b[0;34m(\u001b[0m\u001b[0mself\u001b[0m\u001b[0;34m,\u001b[0m \u001b[0mname\u001b[0m\u001b[0;34m,\u001b[0m \u001b[0mntypes\u001b[0m\u001b[0;34m=\u001b[0m\u001b[0;32mNone\u001b[0m\u001b[0;34m,\u001b[0m \u001b[0metypes\u001b[0m\u001b[0;34m=\u001b[0m\u001b[0;32mNone\u001b[0m\u001b[0;34m,\u001b[0m \u001b[0mformats\u001b[0m\u001b[0;34m=\u001b[0m\u001b[0;34m(\u001b[0m\u001b[0;34m'coo'\u001b[0m\u001b[0;34m,\u001b[0m \u001b[0;34m'csr'\u001b[0m\u001b[0;34m,\u001b[0m \u001b[0;34m'csc'\u001b[0m\u001b[0;34m)\u001b[0m\u001b[0;34m)\u001b[0m\u001b[0;34m:\u001b[0m\u001b[0;34m\u001b[0m\u001b[0;34m\u001b[0m\u001b[0m\n",
      "\u001b[0;32mdgl/_ffi/_cython/./function.pxi\u001b[0m in \u001b[0;36mdgl._ffi._cy3.core.FunctionBase.__call__\u001b[0;34m()\u001b[0m\n",
      "\u001b[0;32mdgl/_ffi/_cython/./function.pxi\u001b[0m in \u001b[0;36mdgl._ffi._cy3.core.make_ret\u001b[0;34m()\u001b[0m\n",
      "\u001b[0;32mdgl/_ffi/_cython/./object.pxi\u001b[0m in \u001b[0;36mdgl._ffi._cy3.core.make_ret_object\u001b[0;34m()\u001b[0m\n",
      "\u001b[0;32m~/.conda/envs/py37/lib/python3.7/site-packages/dgl/heterograph_index.py\u001b[0m in \u001b[0;36m__new__\u001b[0;34m(cls)\u001b[0m\n\u001b[1;32m     21\u001b[0m     \u001b[0mDo\u001b[0m \u001b[0;32mnot\u001b[0m \u001b[0mcreate\u001b[0m \u001b[0mGraphIndex\u001b[0m \u001b[0mdirectly\u001b[0m\u001b[0;34m.\u001b[0m\u001b[0;34m\u001b[0m\u001b[0;34m\u001b[0m\u001b[0m\n\u001b[1;32m     22\u001b[0m     \"\"\"\n\u001b[0;32m---> 23\u001b[0;31m     \u001b[0;32mdef\u001b[0m \u001b[0m__new__\u001b[0m\u001b[0;34m(\u001b[0m\u001b[0mcls\u001b[0m\u001b[0;34m)\u001b[0m\u001b[0;34m:\u001b[0m\u001b[0;34m\u001b[0m\u001b[0;34m\u001b[0m\u001b[0m\n\u001b[0m\u001b[1;32m     24\u001b[0m         \u001b[0mobj\u001b[0m \u001b[0;34m=\u001b[0m \u001b[0mObjectBase\u001b[0m\u001b[0;34m.\u001b[0m\u001b[0m__new__\u001b[0m\u001b[0;34m(\u001b[0m\u001b[0mcls\u001b[0m\u001b[0;34m)\u001b[0m\u001b[0;34m\u001b[0m\u001b[0;34m\u001b[0m\u001b[0m\n\u001b[1;32m     25\u001b[0m         \u001b[0mobj\u001b[0m\u001b[0;34m.\u001b[0m\u001b[0m_cache\u001b[0m \u001b[0;34m=\u001b[0m \u001b[0;34m{\u001b[0m\u001b[0;34m}\u001b[0m\u001b[0;34m\u001b[0m\u001b[0;34m\u001b[0m\u001b[0m\n",
      "\u001b[0;31mKeyboardInterrupt\u001b[0m: "
     ]
    }
   ],
   "source": [
    "import dgl.nn.pytorch as dglnn\n",
    "from torch.nn import functional as F\n",
    "device = 'cuda:0'\n",
    "sage1 = Model(hidden_feature=256).to(device)\n",
    "opt = torch.optim.SGD(sage1.parameters(), lr=1e-2)\n",
    "for epoch in range(500):\n",
    "    scores, labels = sage1(train_g.to(device), {'user':train_g.nodes['user'].data['feature'].to(device), 'item':train_g.nodes['item'].data['feature'].to(device)})\n",
    "    loss = F.binary_cross_entropy(scores, labels)\n",
    "    opt.zero_grad()\n",
    "    loss.backward()\n",
    "    opt.step()\n",
    "    if epoch % 50 == 0:\n",
    "        print(\"TRAIN epochs {} loss: {:.2f}\".format(epoch, loss.item()))\n",
    "    \n",
    "scores, labels = sage1(test_g.to(device), {'user':test_g.nodes['user'].data['feature'].to(device), 'item':test_g.nodes['item'].data['feature'].to(device)})\n",
    "scores, labels = scores.cpu().detach().numpy(), labels.cpu().detach().numpy()\n",
    "evaluationAUC_F1(scores, labels)"
   ]
  },
  {
   "cell_type": "code",
   "execution_count": null,
   "metadata": {},
   "outputs": [],
   "source": []
  }
 ]
}